{
  "nbformat": 4,
  "nbformat_minor": 0,
  "metadata": {
    "colab": {
      "provenance": [],
      "include_colab_link": true
    },
    "kernelspec": {
      "name": "python3",
      "display_name": "Python 3"
    },
    "language_info": {
      "name": "python"
    }
  },
  "cells": [
    {
      "cell_type": "markdown",
      "metadata": {
        "id": "view-in-github",
        "colab_type": "text"
      },
      "source": [
        "<a href=\"https://colab.research.google.com/github/victoriazlren/victoriaren/blob/main/Who's_Faster_Usain_Bolt_or_Michael_Phelps%3F_Jan_18.ipynb\" target=\"_parent\"><img src=\"https://colab.research.google.com/assets/colab-badge.svg\" alt=\"Open In Colab\"/></a>"
      ]
    },
    {
      "cell_type": "markdown",
      "source": [
        "# Who's Faster -- Usain Bolt or Michael Phelps?\n",
        "\n",
        "<img src=\"https://upload.wikimedia.org/wikipedia/commons/1/12/Usain_Bolt_after_4_%C3%97_100_m_Rio_2016.jpg\" height=\"300px\"/> <img src=\"https://media.npr.org/assets/img/2012/08/11/phelps_chest_custom-d239ac79c3c04de45483a17d1ef421f66b2ef812-s1100-c50.jpg\" height=\"300px\"/>\n",
        "\n",
        "Usain Bolt and Michael Phelps are each regarded as the greatest athletes of their respective sports. But who was faster?\n",
        "\n",
        "Does this question even make sense? How do we compare how fast Bolt _runs_ with how fast Phelps _swims_? Although their times are measured in seconds, 1 second of running is not comparable to 1 second of swimming.\n",
        "\n",
        "One way to compare _running_ and _swimming_ is to put the times on the same scale. To do this, we will compare Bolt and Phelps to their competitors at the 2008 Beijing Olympics, where Bolt set world records in the 100m and 200m events and Phelps won a record eight gold medals. Conveniently, both Bolt and Phelps had exactly 7 competitors in the finals of each event."
      ],
      "metadata": {
        "id": "mXy5ddOEOwjp"
      }
    },
    {
      "cell_type": "markdown",
      "source": [
        "First, let's read in the data, which is in the following directory: https://datasci112.stanford.edu/data/olympics/"
      ],
      "metadata": {
        "id": "_rMoZ5FIQt0E"
      }
    },
    {
      "cell_type": "code",
      "source": [
        "import pandas as pd\n",
        "\n",
        "data_dir = \"https://datasci112.stanford.edu/data/olympics/\"\n",
        "df_bolt = pd.read_csv(data_dir + \"bolt.csv\")\n",
        "df_phelps = pd.read_csv(data_dir + \"phelps.csv\")\n",
        "df_phelps.head()"
      ],
      "metadata": {
        "id": "EZJwnKsbO3k0",
        "colab": {
          "base_uri": "https://localhost:8080/",
          "height": 206
        },
        "outputId": "ee98652b-4263-466e-c624-ec542ab21514"
      },
      "execution_count": 2,
      "outputs": [
        {
          "output_type": "execute_result",
          "data": {
            "text/plain": [
              "                          Event  Rank  Lane           Athlete         Nation  \\\n",
              "0  2008 Olympics 200m freestyle     1     6    Michael Phelps  United States   \n",
              "1  2008 Olympics 200m freestyle     2     5     Park Tae-Hwan    South Korea   \n",
              "2  2008 Olympics 200m freestyle     3     4  Peter Vanderkaay  United States   \n",
              "3  2008 Olympics 200m freestyle     4     3       Jean Basson   South Africa   \n",
              "4  2008 Olympics 200m freestyle     5     2   Paul Biedermann        Germany   \n",
              "\n",
              "      Time  \n",
              "0  1:42.96  \n",
              "1  1:44.85  \n",
              "2  1:45.14  \n",
              "3  1:45.97  \n",
              "4  1:46.00  "
            ],
            "text/html": [
              "\n",
              "  <div id=\"df-036da9bf-3797-4f22-8593-d48832e6d0a9\" class=\"colab-df-container\">\n",
              "    <div>\n",
              "<style scoped>\n",
              "    .dataframe tbody tr th:only-of-type {\n",
              "        vertical-align: middle;\n",
              "    }\n",
              "\n",
              "    .dataframe tbody tr th {\n",
              "        vertical-align: top;\n",
              "    }\n",
              "\n",
              "    .dataframe thead th {\n",
              "        text-align: right;\n",
              "    }\n",
              "</style>\n",
              "<table border=\"1\" class=\"dataframe\">\n",
              "  <thead>\n",
              "    <tr style=\"text-align: right;\">\n",
              "      <th></th>\n",
              "      <th>Event</th>\n",
              "      <th>Rank</th>\n",
              "      <th>Lane</th>\n",
              "      <th>Athlete</th>\n",
              "      <th>Nation</th>\n",
              "      <th>Time</th>\n",
              "    </tr>\n",
              "  </thead>\n",
              "  <tbody>\n",
              "    <tr>\n",
              "      <th>0</th>\n",
              "      <td>2008 Olympics 200m freestyle</td>\n",
              "      <td>1</td>\n",
              "      <td>6</td>\n",
              "      <td>Michael Phelps</td>\n",
              "      <td>United States</td>\n",
              "      <td>1:42.96</td>\n",
              "    </tr>\n",
              "    <tr>\n",
              "      <th>1</th>\n",
              "      <td>2008 Olympics 200m freestyle</td>\n",
              "      <td>2</td>\n",
              "      <td>5</td>\n",
              "      <td>Park Tae-Hwan</td>\n",
              "      <td>South Korea</td>\n",
              "      <td>1:44.85</td>\n",
              "    </tr>\n",
              "    <tr>\n",
              "      <th>2</th>\n",
              "      <td>2008 Olympics 200m freestyle</td>\n",
              "      <td>3</td>\n",
              "      <td>4</td>\n",
              "      <td>Peter Vanderkaay</td>\n",
              "      <td>United States</td>\n",
              "      <td>1:45.14</td>\n",
              "    </tr>\n",
              "    <tr>\n",
              "      <th>3</th>\n",
              "      <td>2008 Olympics 200m freestyle</td>\n",
              "      <td>4</td>\n",
              "      <td>3</td>\n",
              "      <td>Jean Basson</td>\n",
              "      <td>South Africa</td>\n",
              "      <td>1:45.97</td>\n",
              "    </tr>\n",
              "    <tr>\n",
              "      <th>4</th>\n",
              "      <td>2008 Olympics 200m freestyle</td>\n",
              "      <td>5</td>\n",
              "      <td>2</td>\n",
              "      <td>Paul Biedermann</td>\n",
              "      <td>Germany</td>\n",
              "      <td>1:46.00</td>\n",
              "    </tr>\n",
              "  </tbody>\n",
              "</table>\n",
              "</div>\n",
              "    <div class=\"colab-df-buttons\">\n",
              "\n",
              "  <div class=\"colab-df-container\">\n",
              "    <button class=\"colab-df-convert\" onclick=\"convertToInteractive('df-036da9bf-3797-4f22-8593-d48832e6d0a9')\"\n",
              "            title=\"Convert this dataframe to an interactive table.\"\n",
              "            style=\"display:none;\">\n",
              "\n",
              "  <svg xmlns=\"http://www.w3.org/2000/svg\" height=\"24px\" viewBox=\"0 -960 960 960\">\n",
              "    <path d=\"M120-120v-720h720v720H120Zm60-500h600v-160H180v160Zm220 220h160v-160H400v160Zm0 220h160v-160H400v160ZM180-400h160v-160H180v160Zm440 0h160v-160H620v160ZM180-180h160v-160H180v160Zm440 0h160v-160H620v160Z\"/>\n",
              "  </svg>\n",
              "    </button>\n",
              "\n",
              "  <style>\n",
              "    .colab-df-container {\n",
              "      display:flex;\n",
              "      gap: 12px;\n",
              "    }\n",
              "\n",
              "    .colab-df-convert {\n",
              "      background-color: #E8F0FE;\n",
              "      border: none;\n",
              "      border-radius: 50%;\n",
              "      cursor: pointer;\n",
              "      display: none;\n",
              "      fill: #1967D2;\n",
              "      height: 32px;\n",
              "      padding: 0 0 0 0;\n",
              "      width: 32px;\n",
              "    }\n",
              "\n",
              "    .colab-df-convert:hover {\n",
              "      background-color: #E2EBFA;\n",
              "      box-shadow: 0px 1px 2px rgba(60, 64, 67, 0.3), 0px 1px 3px 1px rgba(60, 64, 67, 0.15);\n",
              "      fill: #174EA6;\n",
              "    }\n",
              "\n",
              "    .colab-df-buttons div {\n",
              "      margin-bottom: 4px;\n",
              "    }\n",
              "\n",
              "    [theme=dark] .colab-df-convert {\n",
              "      background-color: #3B4455;\n",
              "      fill: #D2E3FC;\n",
              "    }\n",
              "\n",
              "    [theme=dark] .colab-df-convert:hover {\n",
              "      background-color: #434B5C;\n",
              "      box-shadow: 0px 1px 3px 1px rgba(0, 0, 0, 0.15);\n",
              "      filter: drop-shadow(0px 1px 2px rgba(0, 0, 0, 0.3));\n",
              "      fill: #FFFFFF;\n",
              "    }\n",
              "  </style>\n",
              "\n",
              "    <script>\n",
              "      const buttonEl =\n",
              "        document.querySelector('#df-036da9bf-3797-4f22-8593-d48832e6d0a9 button.colab-df-convert');\n",
              "      buttonEl.style.display =\n",
              "        google.colab.kernel.accessAllowed ? 'block' : 'none';\n",
              "\n",
              "      async function convertToInteractive(key) {\n",
              "        const element = document.querySelector('#df-036da9bf-3797-4f22-8593-d48832e6d0a9');\n",
              "        const dataTable =\n",
              "          await google.colab.kernel.invokeFunction('convertToInteractive',\n",
              "                                                    [key], {});\n",
              "        if (!dataTable) return;\n",
              "\n",
              "        const docLinkHtml = 'Like what you see? Visit the ' +\n",
              "          '<a target=\"_blank\" href=https://colab.research.google.com/notebooks/data_table.ipynb>data table notebook</a>'\n",
              "          + ' to learn more about interactive tables.';\n",
              "        element.innerHTML = '';\n",
              "        dataTable['output_type'] = 'display_data';\n",
              "        await google.colab.output.renderOutput(dataTable, element);\n",
              "        const docLink = document.createElement('div');\n",
              "        docLink.innerHTML = docLinkHtml;\n",
              "        element.appendChild(docLink);\n",
              "      }\n",
              "    </script>\n",
              "  </div>\n",
              "\n",
              "\n",
              "<div id=\"df-7983b5b3-65a6-4dad-ad08-24f860cc4a13\">\n",
              "  <button class=\"colab-df-quickchart\" onclick=\"quickchart('df-7983b5b3-65a6-4dad-ad08-24f860cc4a13')\"\n",
              "            title=\"Suggest charts\"\n",
              "            style=\"display:none;\">\n",
              "\n",
              "<svg xmlns=\"http://www.w3.org/2000/svg\" height=\"24px\"viewBox=\"0 0 24 24\"\n",
              "     width=\"24px\">\n",
              "    <g>\n",
              "        <path d=\"M19 3H5c-1.1 0-2 .9-2 2v14c0 1.1.9 2 2 2h14c1.1 0 2-.9 2-2V5c0-1.1-.9-2-2-2zM9 17H7v-7h2v7zm4 0h-2V7h2v10zm4 0h-2v-4h2v4z\"/>\n",
              "    </g>\n",
              "</svg>\n",
              "  </button>\n",
              "\n",
              "<style>\n",
              "  .colab-df-quickchart {\n",
              "      --bg-color: #E8F0FE;\n",
              "      --fill-color: #1967D2;\n",
              "      --hover-bg-color: #E2EBFA;\n",
              "      --hover-fill-color: #174EA6;\n",
              "      --disabled-fill-color: #AAA;\n",
              "      --disabled-bg-color: #DDD;\n",
              "  }\n",
              "\n",
              "  [theme=dark] .colab-df-quickchart {\n",
              "      --bg-color: #3B4455;\n",
              "      --fill-color: #D2E3FC;\n",
              "      --hover-bg-color: #434B5C;\n",
              "      --hover-fill-color: #FFFFFF;\n",
              "      --disabled-bg-color: #3B4455;\n",
              "      --disabled-fill-color: #666;\n",
              "  }\n",
              "\n",
              "  .colab-df-quickchart {\n",
              "    background-color: var(--bg-color);\n",
              "    border: none;\n",
              "    border-radius: 50%;\n",
              "    cursor: pointer;\n",
              "    display: none;\n",
              "    fill: var(--fill-color);\n",
              "    height: 32px;\n",
              "    padding: 0;\n",
              "    width: 32px;\n",
              "  }\n",
              "\n",
              "  .colab-df-quickchart:hover {\n",
              "    background-color: var(--hover-bg-color);\n",
              "    box-shadow: 0 1px 2px rgba(60, 64, 67, 0.3), 0 1px 3px 1px rgba(60, 64, 67, 0.15);\n",
              "    fill: var(--button-hover-fill-color);\n",
              "  }\n",
              "\n",
              "  .colab-df-quickchart-complete:disabled,\n",
              "  .colab-df-quickchart-complete:disabled:hover {\n",
              "    background-color: var(--disabled-bg-color);\n",
              "    fill: var(--disabled-fill-color);\n",
              "    box-shadow: none;\n",
              "  }\n",
              "\n",
              "  .colab-df-spinner {\n",
              "    border: 2px solid var(--fill-color);\n",
              "    border-color: transparent;\n",
              "    border-bottom-color: var(--fill-color);\n",
              "    animation:\n",
              "      spin 1s steps(1) infinite;\n",
              "  }\n",
              "\n",
              "  @keyframes spin {\n",
              "    0% {\n",
              "      border-color: transparent;\n",
              "      border-bottom-color: var(--fill-color);\n",
              "      border-left-color: var(--fill-color);\n",
              "    }\n",
              "    20% {\n",
              "      border-color: transparent;\n",
              "      border-left-color: var(--fill-color);\n",
              "      border-top-color: var(--fill-color);\n",
              "    }\n",
              "    30% {\n",
              "      border-color: transparent;\n",
              "      border-left-color: var(--fill-color);\n",
              "      border-top-color: var(--fill-color);\n",
              "      border-right-color: var(--fill-color);\n",
              "    }\n",
              "    40% {\n",
              "      border-color: transparent;\n",
              "      border-right-color: var(--fill-color);\n",
              "      border-top-color: var(--fill-color);\n",
              "    }\n",
              "    60% {\n",
              "      border-color: transparent;\n",
              "      border-right-color: var(--fill-color);\n",
              "    }\n",
              "    80% {\n",
              "      border-color: transparent;\n",
              "      border-right-color: var(--fill-color);\n",
              "      border-bottom-color: var(--fill-color);\n",
              "    }\n",
              "    90% {\n",
              "      border-color: transparent;\n",
              "      border-bottom-color: var(--fill-color);\n",
              "    }\n",
              "  }\n",
              "</style>\n",
              "\n",
              "  <script>\n",
              "    async function quickchart(key) {\n",
              "      const quickchartButtonEl =\n",
              "        document.querySelector('#' + key + ' button');\n",
              "      quickchartButtonEl.disabled = true;  // To prevent multiple clicks.\n",
              "      quickchartButtonEl.classList.add('colab-df-spinner');\n",
              "      try {\n",
              "        const charts = await google.colab.kernel.invokeFunction(\n",
              "            'suggestCharts', [key], {});\n",
              "      } catch (error) {\n",
              "        console.error('Error during call to suggestCharts:', error);\n",
              "      }\n",
              "      quickchartButtonEl.classList.remove('colab-df-spinner');\n",
              "      quickchartButtonEl.classList.add('colab-df-quickchart-complete');\n",
              "    }\n",
              "    (() => {\n",
              "      let quickchartButtonEl =\n",
              "        document.querySelector('#df-7983b5b3-65a6-4dad-ad08-24f860cc4a13 button');\n",
              "      quickchartButtonEl.style.display =\n",
              "        google.colab.kernel.accessAllowed ? 'block' : 'none';\n",
              "    })();\n",
              "  </script>\n",
              "</div>\n",
              "\n",
              "    </div>\n",
              "  </div>\n"
            ]
          },
          "metadata": {},
          "execution_count": 2
        }
      ]
    },
    {
      "cell_type": "markdown",
      "source": [
        "## Part 1: Usain Bolt\n",
        "\n",
        "One way to put variables on the same scale is to **standardize** them so that the mean is 0 and the standard deviation is 1.\n",
        "\n",
        "To standardize a variable $x$, we subtract each value $x_i$ by the mean $\\bar x$ and divide by the standard deviation:\n",
        "$$ z_i \\leftarrow \\frac{x_i - \\bar x}{\\text{sd}(x)}. $$"
      ],
      "metadata": {
        "id": "hkUnB78xT9PD"
      }
    },
    {
      "cell_type": "markdown",
      "source": [
        "### Question 1\n",
        "\n",
        "Bolt competed in two individual events at the 2008 Olympics, the 100m and the 200m. Since they are different events, we should standardize each one separately.\n",
        "\n",
        "To do this, we will first need the means and standard deviations of the times for each event. Use the split-apply-combine paradigm to calculate the means and standard deviations."
      ],
      "metadata": {
        "id": "seHlN6R9RWHZ"
      }
    },
    {
      "cell_type": "code",
      "source": [
        "# YOUR CODE HERE\n",
        "bolt_100m_mean = df_bolt[df_bolt[\"Event\"] == \"2008 Olympics 100m\"][\"Time\"].mean()\n",
        "bolt_100m_std = df_bolt[df_bolt[\"Event\"] == \"2008 Olympics 100m\"][\"Time\"].std()\n",
        "bolt_200m_mean = df_bolt[df_bolt[\"Event\"] == \"2008 Olympics 200m\"][\"Time\"].mean()\n",
        "bolt_200m_std = df_bolt[df_bolt[\"Event\"] == \"2008 Olympics 200m\"][\"Time\"].std()\n",
        "print(bolt_100m_mean, bolt_100m_std, bolt_200m_mean, bolt_200m_std)"
      ],
      "metadata": {
        "id": "3Dy3ZduMPIj_",
        "colab": {
          "base_uri": "https://localhost:8080/"
        },
        "outputId": "af4ba749-ce54-40f2-fd98-5851e4193a9d"
      },
      "execution_count": 3,
      "outputs": [
        {
          "output_type": "stream",
          "name": "stdout",
          "text": [
            "9.9225 0.1052547929007104 20.0275 0.3923100086119935\n"
          ]
        }
      ]
    },
    {
      "cell_type": "code",
      "source": [
        "bolt_mean = df_bolt.groupby(\"Event\")[\"Time\"].mean()\n",
        "bolt_std = df_bolt.groupby(\"Event\")[\"Time\"].std()\n",
        "print(bolt_mean, bolt_std)"
      ],
      "metadata": {
        "colab": {
          "base_uri": "https://localhost:8080/"
        },
        "id": "l9xCZazo4oIq",
        "outputId": "05c3589f-1aa5-427b-b57f-b9c34be30426"
      },
      "execution_count": 4,
      "outputs": [
        {
          "output_type": "stream",
          "name": "stdout",
          "text": [
            "Event\n",
            "2008 Olympics 100m     9.9225\n",
            "2008 Olympics 200m    20.0275\n",
            "Name: Time, dtype: float64 Event\n",
            "2008 Olympics 100m    0.105255\n",
            "2008 Olympics 200m    0.392310\n",
            "Name: Time, dtype: float64\n"
          ]
        }
      ]
    },
    {
      "cell_type": "markdown",
      "source": [
        "### Question 2\n",
        "\n",
        "Now, using the means and standard deviations (for each event) that you calculated above, standardize the times for each event. Interpret the result; on which event was Bolt more impresssive?\n",
        "\n",
        "(_Hint:_ One efficient way to do this is to create a series of the times, where the index consists of the event and the athlete. Then, you should be able to use arithmetic operations with the means and standard deviations you calculated above.)"
      ],
      "metadata": {
        "id": "oenX9NkqUn7N"
      }
    },
    {
      "cell_type": "code",
      "source": [
        "# YOUR CODE HERE\n",
        "times = df_bolt.set_index([\"Event\", \"Athlete\"])[\"Time\"]\n",
        "standardized = (times - bolt_mean) / bolt_std\n",
        "standardized"
      ],
      "metadata": {
        "id": "w15K1cjaWMPz",
        "colab": {
          "base_uri": "https://localhost:8080/"
        },
        "outputId": "3338218a-3a67-4941-e8bf-6b498ef9a7bb"
      },
      "execution_count": 5,
      "outputs": [
        {
          "output_type": "execute_result",
          "data": {
            "text/plain": [
              "Event               Athlete          \n",
              "2008 Olympics 100m  Usain Bolt          -2.208926\n",
              "                    Richard Thompson    -0.308775\n",
              "                    Walter Dix          -0.118759\n",
              "                    Churandy Martina     0.071256\n",
              "                    Asafa Powell         0.261271\n",
              "                    Michael Frater       0.451286\n",
              "                    Marc Burns           0.831316\n",
              "                    Darvis Patton        1.021331\n",
              "2008 Olympics 200m  Usain Bolt          -1.854401\n",
              "                    Shawn Crawford      -0.172058\n",
              "                    Walter Dix          -0.121078\n",
              "                    Brian Dzingai        0.490683\n",
              "                    Christian Malcolm    0.949504\n",
              "                    Kim Collins          1.433815\n",
              "                    Churandy Martina    -0.528918\n",
              "                    Wallace Spearmon    -0.197548\n",
              "Name: Time, dtype: float64"
            ]
          },
          "metadata": {},
          "execution_count": 5
        }
      ]
    },
    {
      "cell_type": "markdown",
      "source": [
        "_YOUR INTERPRETATION HERE_\n"
      ],
      "metadata": {
        "id": "ADGEllX4aLRM"
      }
    },
    {
      "cell_type": "markdown",
      "source": [
        "### Question 2.5\n",
        "\n",
        "How could you check that you standardized the times correctly?"
      ],
      "metadata": {
        "id": "kCBvd6RiTSiw"
      }
    },
    {
      "cell_type": "code",
      "source": [
        "standardized.groupby(\"Event\").mean(), standardized.groupby(\"Event\").std()"
      ],
      "metadata": {
        "colab": {
          "base_uri": "https://localhost:8080/"
        },
        "id": "ODqw6Npz8ZUX",
        "outputId": "d1bf80db-d248-4481-bfda-f2d183829a2f"
      },
      "execution_count": 6,
      "outputs": [
        {
          "output_type": "execute_result",
          "data": {
            "text/plain": [
              "(Event\n",
              " 2008 Olympics 100m    4.218847e-15\n",
              " 2008 Olympics 200m    6.938894e-18\n",
              " Name: Time, dtype: float64,\n",
              " Event\n",
              " 2008 Olympics 100m    1.0\n",
              " 2008 Olympics 200m    1.0\n",
              " Name: Time, dtype: float64)"
            ]
          },
          "metadata": {},
          "execution_count": 6
        }
      ]
    },
    {
      "cell_type": "markdown",
      "source": [
        "### Question 3\n",
        "\n",
        "Make a visualization comparing the standardized times across the two events."
      ],
      "metadata": {
        "id": "i-D3tS4pbTe_"
      }
    },
    {
      "cell_type": "code",
      "source": [
        "# YOUR CODE HERE\n",
        "myplot = standardized.unstack(\"Event\").plot.hist(alpha=0.7)\n",
        "myplot.set_title(\"Standardized times for 100m and 200m\")\n",
        "myplot.set_ylabel(\"Standardized times\")\n",
        "myplot"
      ],
      "metadata": {
        "id": "w6uaUFhkbTRx",
        "colab": {
          "base_uri": "https://localhost:8080/",
          "height": 469
        },
        "outputId": "22678a2b-3faf-4947-af45-000ad555d303"
      },
      "execution_count": 7,
      "outputs": [
        {
          "output_type": "execute_result",
          "data": {
            "text/plain": [
              "<Axes: title={'center': 'Standardized times for 100m and 200m'}, ylabel='Standardized times'>"
            ]
          },
          "metadata": {},
          "execution_count": 7
        },
        {
          "output_type": "display_data",
          "data": {
            "text/plain": [
              "<Figure size 640x480 with 1 Axes>"
            ],
            "image/png": "[encoded data removed]"
          },
          "metadata": {}
        }
      ]
    },
    {
      "cell_type": "markdown",
      "source": [
        "## Part 2: Michael Phelps\n",
        "\n",
        "Now let's standardize Michael Phelps's times in 5 individual events and compare them to Usain Bolt's times."
      ],
      "metadata": {
        "id": "8iXpo0UhWux5"
      }
    },
    {
      "cell_type": "markdown",
      "source": [
        "### Question 4\n",
        "\n",
        "Unfortunately, the data for Phelps isn't nearly as clean. The times are stored in `minutes:seconds` format. Create a new column in the `DataFrame` with the time in seconds.\n",
        "\n",
        "(_Hint:_ One way to do this is to use `.str.split(\":\")` and process the result.)"
      ],
      "metadata": {
        "id": "VQGmLkeNW3i-"
      }
    },
    {
      "cell_type": "code",
      "source": [
        "# YOUR CODE HERE\n",
        "result = df_phelps['Time'].str.split(\":\")\n",
        "min = result.str[0]\n",
        "seconds = result.str[1]\n",
        "final = min.astype(float) * 60 + seconds.astype(float)\n",
        "df_phelps[\"Converted\"] = final"
      ],
      "metadata": {
        "id": "YXaSROuAWjpN"
      },
      "execution_count": 8,
      "outputs": []
    },
    {
      "cell_type": "markdown",
      "source": [
        "### Question 5\n",
        "\n",
        "Now, standardize the times for each event. Check your answer. How does Phelps compare with Bolt?"
      ],
      "metadata": {
        "id": "rw3ot8W4Y8im"
      }
    },
    {
      "cell_type": "code",
      "source": [
        "# YOUR CODE HERE\n",
        "means = df_phelps.groupby(\"Event\")[\"Converted\"].mean()\n",
        "stds = df_phelps.groupby(\"Event\")[\"Converted\"].std()\n",
        "\n",
        "z_phelps = (df_phelps.set_index([\"Event\", \"Athlete\"])[\"Converted\"] - means) / stds\n",
        "print(z_phelps.xs(\"Michael Phelps\",level = \"Athlete\"))\n",
        "standardized.xs(\"Usain Bolt\", level = \"Athlete\")"
      ],
      "metadata": {
        "id": "ZbVMRjWBW7o1",
        "colab": {
          "base_uri": "https://localhost:8080/"
        },
        "outputId": "f22a67fb-8a12-4adc-f29e-4b315b8b71e2"
      },
      "execution_count": 9,
      "outputs": [
        {
          "output_type": "stream",
          "name": "stdout",
          "text": [
            "Event\n",
            "2008 Olympics 200m freestyle   -1.922794\n",
            "2008 Olympics 100m butterfly   -1.398947\n",
            "2008 Olympics 200m butterfly   -1.621887\n",
            "2008 Olympics 200m medley      -1.773098\n",
            "2008 Olympics 400m medley      -1.665240\n",
            "Name: Converted, dtype: float64\n"
          ]
        },
        {
          "output_type": "execute_result",
          "data": {
            "text/plain": [
              "Event\n",
              "2008 Olympics 100m   -2.208926\n",
              "2008 Olympics 200m   -1.854401\n",
              "Name: Time, dtype: float64"
            ]
          },
          "metadata": {},
          "execution_count": 9
        }
      ]
    },
    {
      "cell_type": "markdown",
      "source": [
        "_YOUR INTERPRETATION HERE_"
      ],
      "metadata": {
        "id": "9m6cyy4BZpCn"
      }
    }
  ]
}